{
 "cells": [
  {
   "cell_type": "markdown",
   "metadata": {},
   "source": [
    "'''\n",
    "Mô hình hồi quy tuyến tính: LinearRegression(Dự đoán được các giá trị liên tục)\n",
    "Input: biến độc lập ví dụ: Ex và test score\n",
    "Output: biến phụ thuộc  ví dụ: salary\n",
    "1. Hồi quy --> đầu ra là số thực\n",
    "- Biến số là cột\n",
    "- Input là trọng lượng và dung tích: V và W\n",
    "- Out là CO2\n",
    "- Model là mô hình hồi quy tuyến tính\n",
    "\n",
    "Bước 1: Load data\n",
    "Bước 2: EDA\n",
    "Bước 3: Chia data thành tập train và tập test\n",
    "Bước 4: Xây dựng mô hình hồi quy tuyến tính\n",
    "Note: Bước 4 df chia ra \n",
    "+ Train: 80%\n",
    "+ Test: 20%\n",
    "- Hệ số random_state = 146 tức là sinh ra các giá trị ngẫu nhiên từ df sẽ giống với Thầy, đi thi sẽ được cung cấp \n",
    "hệ số này\n",
    "\n",
    "+ X-train là input của trập train\n",
    "+ X_test là input cua tập test\n",
    "+ y_train là output của tập train\n",
    "+ y_test là output của tập test\n",
    "Bước 5: Xác định giá trị này tương đương với gì?\n",
    "Bước 7: coef tương ứng với A1 và A2 \n",
    "        intercept ứng với A0\n",
    "Ghi ra giấy: CO2 = 76,189 + 0.0115 * val + 0.006 * Wei\n",
    "\n",
    "Đánh giá mô hình: sử dụng độ đo để đánh giá\n",
    "+ Dùng excel\n",
    "CO2 = mô hình ghi ra giấy thay đổi cột V, W vào là được\n",
    "+ Đánh gia mô hình: so sánh thực tế và dự báo\n",
    "Cột độ lệch (xài abs trị tuyệt đối)= thực tế - dự báo\n",
    "--> Độ lệch càng nhỏ thì càng tốt (không phân biệt âm dương)\n",
    "\n",
    "Tính trung bình = 5.27 --> nói lên cứ mỗi một giá trị dự báo được thì lệch khoảng 5.27 so với thực tế\n",
    "\n",
    "Ví dụ: dung tích 3500 và p = 2500 --> chưa có số liệu CO2\n",
    "Dự báo CO2 = cách tính tb cột dự báo = 128.66\n",
    "2. Phân loại --> đầu ra là data định danh\n",
    "'''"
   ]
  },
  {
   "cell_type": "markdown",
   "metadata": {},
   "source": [
    "'''    \n",
    "    Install các thư viên:\n",
    "    1. pip install pandas\n",
    "    2. pip install sklearn\n",
    "    3. pip install statsmodels\n",
    "\n",
    "    Dữ liệu đọc là dữ liệu về xe hơi\n",
    "    \n",
    "'''\n",
    "\n",
    "#Step 1: Load data\n",
    "\n"
   ]
  },
  {
   "cell_type": "code",
   "execution_count": 3,
   "metadata": {},
   "outputs": [
    {
     "data": {
      "text/html": [
       "<div>\n",
       "<style scoped>\n",
       "    .dataframe tbody tr th:only-of-type {\n",
       "        vertical-align: middle;\n",
       "    }\n",
       "\n",
       "    .dataframe tbody tr th {\n",
       "        vertical-align: top;\n",
       "    }\n",
       "\n",
       "    .dataframe thead th {\n",
       "        text-align: right;\n",
       "    }\n",
       "</style>\n",
       "<table border=\"1\" class=\"dataframe\">\n",
       "  <thead>\n",
       "    <tr style=\"text-align: right;\">\n",
       "      <th></th>\n",
       "      <th>Car</th>\n",
       "      <th>Model</th>\n",
       "      <th>Volume</th>\n",
       "      <th>Weight</th>\n",
       "      <th>CO2</th>\n",
       "    </tr>\n",
       "  </thead>\n",
       "  <tbody>\n",
       "    <tr>\n",
       "      <th>0</th>\n",
       "      <td>Toyoty</td>\n",
       "      <td>Aygo</td>\n",
       "      <td>1000</td>\n",
       "      <td>790</td>\n",
       "      <td>99</td>\n",
       "    </tr>\n",
       "    <tr>\n",
       "      <th>1</th>\n",
       "      <td>Mitsubishi</td>\n",
       "      <td>Space Star</td>\n",
       "      <td>1200</td>\n",
       "      <td>1160</td>\n",
       "      <td>95</td>\n",
       "    </tr>\n",
       "    <tr>\n",
       "      <th>2</th>\n",
       "      <td>Skoda</td>\n",
       "      <td>Citigo</td>\n",
       "      <td>1000</td>\n",
       "      <td>929</td>\n",
       "      <td>95</td>\n",
       "    </tr>\n",
       "    <tr>\n",
       "      <th>3</th>\n",
       "      <td>Fiat</td>\n",
       "      <td>500</td>\n",
       "      <td>900</td>\n",
       "      <td>865</td>\n",
       "      <td>90</td>\n",
       "    </tr>\n",
       "    <tr>\n",
       "      <th>4</th>\n",
       "      <td>Mini</td>\n",
       "      <td>Cooper</td>\n",
       "      <td>1500</td>\n",
       "      <td>1140</td>\n",
       "      <td>105</td>\n",
       "    </tr>\n",
       "  </tbody>\n",
       "</table>\n",
       "</div>"
      ],
      "text/plain": [
       "          Car       Model  Volume  Weight  CO2\n",
       "0      Toyoty        Aygo    1000     790   99\n",
       "1  Mitsubishi  Space Star    1200    1160   95\n",
       "2       Skoda      Citigo    1000     929   95\n",
       "3        Fiat         500     900     865   90\n",
       "4        Mini      Cooper    1500    1140  105"
      ]
     },
     "execution_count": 3,
     "metadata": {},
     "output_type": "execute_result"
    }
   ],
   "source": [
    "import pandas as pd \n",
    "\n",
    "df = pd.read_csv('cars_data.csv')# đổi cái file csv mới vô đây\n",
    "df.head()"
   ]
  },
  {
   "cell_type": "code",
   "execution_count": 4,
   "metadata": {},
   "outputs": [
    {
     "data": {
      "text/plain": [
       "'\\n    Step 2: Thực hiên EDA trên các biến số SINH VIÊN TỰ LÀM (TRONG LỚP THỰC HÀNH)\\n'"
      ]
     },
     "execution_count": 4,
     "metadata": {},
     "output_type": "execute_result"
    }
   ],
   "source": [
    "'''\n",
    "    Step 2: Thực hiên EDA trên các biến số SINH VIÊN TỰ LÀM (TRONG LỚP THỰC HÀNH)\n",
    "'''\n",
    "#View the data"
   ]
  },
  {
   "cell_type": "code",
   "execution_count": 5,
   "metadata": {},
   "outputs": [
    {
     "name": "stdout",
     "output_type": "stream",
     "text": [
      "     Car   Model  Volume  Weight  CO2\n",
      "8   Ford  Fiesta    1500    1112   98\n",
      "12  Ford  Fiesta    1000    1112   99\n",
      "19  Ford   Focus    2000    1328  105\n",
      "20  Ford  Mondeo    1600    1584   94\n",
      "32  Ford   B-Max    1600    1235  104\n"
     ]
    }
   ],
   "source": [
    "\n",
    "#Describe the data\n",
    "df_ford = df[df['Car'] == 'Ford']\n",
    "print(df_ford)"
   ]
  },
  {
   "cell_type": "code",
   "execution_count": 6,
   "metadata": {},
   "outputs": [
    {
     "data": {
      "text/html": [
       "<div>\n",
       "<style scoped>\n",
       "    .dataframe tbody tr th:only-of-type {\n",
       "        vertical-align: middle;\n",
       "    }\n",
       "\n",
       "    .dataframe tbody tr th {\n",
       "        vertical-align: top;\n",
       "    }\n",
       "\n",
       "    .dataframe thead th {\n",
       "        text-align: right;\n",
       "    }\n",
       "</style>\n",
       "<table border=\"1\" class=\"dataframe\">\n",
       "  <thead>\n",
       "    <tr style=\"text-align: right;\">\n",
       "      <th></th>\n",
       "      <th>Volume</th>\n",
       "      <th>Weight</th>\n",
       "      <th>CO2</th>\n",
       "    </tr>\n",
       "  </thead>\n",
       "  <tbody>\n",
       "    <tr>\n",
       "      <th>count</th>\n",
       "      <td>5.000000</td>\n",
       "      <td>5.000000</td>\n",
       "      <td>5.000000</td>\n",
       "    </tr>\n",
       "    <tr>\n",
       "      <th>mean</th>\n",
       "      <td>1540.000000</td>\n",
       "      <td>1274.200000</td>\n",
       "      <td>100.000000</td>\n",
       "    </tr>\n",
       "    <tr>\n",
       "      <th>std</th>\n",
       "      <td>357.770876</td>\n",
       "      <td>195.591922</td>\n",
       "      <td>4.527693</td>\n",
       "    </tr>\n",
       "    <tr>\n",
       "      <th>min</th>\n",
       "      <td>1000.000000</td>\n",
       "      <td>1112.000000</td>\n",
       "      <td>94.000000</td>\n",
       "    </tr>\n",
       "    <tr>\n",
       "      <th>25%</th>\n",
       "      <td>1500.000000</td>\n",
       "      <td>1112.000000</td>\n",
       "      <td>98.000000</td>\n",
       "    </tr>\n",
       "    <tr>\n",
       "      <th>50%</th>\n",
       "      <td>1600.000000</td>\n",
       "      <td>1235.000000</td>\n",
       "      <td>99.000000</td>\n",
       "    </tr>\n",
       "    <tr>\n",
       "      <th>75%</th>\n",
       "      <td>1600.000000</td>\n",
       "      <td>1328.000000</td>\n",
       "      <td>104.000000</td>\n",
       "    </tr>\n",
       "    <tr>\n",
       "      <th>max</th>\n",
       "      <td>2000.000000</td>\n",
       "      <td>1584.000000</td>\n",
       "      <td>105.000000</td>\n",
       "    </tr>\n",
       "  </tbody>\n",
       "</table>\n",
       "</div>"
      ],
      "text/plain": [
       "            Volume       Weight         CO2\n",
       "count     5.000000     5.000000    5.000000\n",
       "mean   1540.000000  1274.200000  100.000000\n",
       "std     357.770876   195.591922    4.527693\n",
       "min    1000.000000  1112.000000   94.000000\n",
       "25%    1500.000000  1112.000000   98.000000\n",
       "50%    1600.000000  1235.000000   99.000000\n",
       "75%    1600.000000  1328.000000  104.000000\n",
       "max    2000.000000  1584.000000  105.000000"
      ]
     },
     "execution_count": 6,
     "metadata": {},
     "output_type": "execute_result"
    }
   ],
   "source": [
    "df_ford.describe()"
   ]
  },
  {
   "cell_type": "code",
   "execution_count": 7,
   "metadata": {},
   "outputs": [
    {
     "data": {
      "text/html": [
       "<div>\n",
       "<style scoped>\n",
       "    .dataframe tbody tr th:only-of-type {\n",
       "        vertical-align: middle;\n",
       "    }\n",
       "\n",
       "    .dataframe tbody tr th {\n",
       "        vertical-align: top;\n",
       "    }\n",
       "\n",
       "    .dataframe thead th {\n",
       "        text-align: right;\n",
       "    }\n",
       "</style>\n",
       "<table border=\"1\" class=\"dataframe\">\n",
       "  <thead>\n",
       "    <tr style=\"text-align: right;\">\n",
       "      <th></th>\n",
       "      <th>Car</th>\n",
       "      <th>Model</th>\n",
       "      <th>Volume</th>\n",
       "      <th>Weight</th>\n",
       "      <th>CO2</th>\n",
       "    </tr>\n",
       "  </thead>\n",
       "  <tbody>\n",
       "    <tr>\n",
       "      <th>19</th>\n",
       "      <td>Ford</td>\n",
       "      <td>Focus</td>\n",
       "      <td>2000</td>\n",
       "      <td>1328</td>\n",
       "      <td>105</td>\n",
       "    </tr>\n",
       "    <tr>\n",
       "      <th>20</th>\n",
       "      <td>Ford</td>\n",
       "      <td>Mondeo</td>\n",
       "      <td>1600</td>\n",
       "      <td>1584</td>\n",
       "      <td>94</td>\n",
       "    </tr>\n",
       "    <tr>\n",
       "      <th>32</th>\n",
       "      <td>Ford</td>\n",
       "      <td>B-Max</td>\n",
       "      <td>1600</td>\n",
       "      <td>1235</td>\n",
       "      <td>104</td>\n",
       "    </tr>\n",
       "    <tr>\n",
       "      <th>8</th>\n",
       "      <td>Ford</td>\n",
       "      <td>Fiesta</td>\n",
       "      <td>1500</td>\n",
       "      <td>1112</td>\n",
       "      <td>98</td>\n",
       "    </tr>\n",
       "    <tr>\n",
       "      <th>12</th>\n",
       "      <td>Ford</td>\n",
       "      <td>Fiesta</td>\n",
       "      <td>1000</td>\n",
       "      <td>1112</td>\n",
       "      <td>99</td>\n",
       "    </tr>\n",
       "  </tbody>\n",
       "</table>\n",
       "</div>"
      ],
      "text/plain": [
       "     Car   Model  Volume  Weight  CO2\n",
       "19  Ford   Focus    2000    1328  105\n",
       "20  Ford  Mondeo    1600    1584   94\n",
       "32  Ford   B-Max    1600    1235  104\n",
       "8   Ford  Fiesta    1500    1112   98\n",
       "12  Ford  Fiesta    1000    1112   99"
      ]
     },
     "execution_count": 7,
     "metadata": {},
     "output_type": "execute_result"
    }
   ],
   "source": [
    "#SORT\n",
    "df_ford.sort_values(by=['Volume','Weight','CO2'], ascending=False)\n",
    "\n",
    "# False: giảm dần\n",
    "# True: tăng dân"
   ]
  },
  {
   "cell_type": "code",
   "execution_count": 8,
   "metadata": {},
   "outputs": [
    {
     "data": {
      "text/html": [
       "<div>\n",
       "<style scoped>\n",
       "    .dataframe tbody tr th:only-of-type {\n",
       "        vertical-align: middle;\n",
       "    }\n",
       "\n",
       "    .dataframe tbody tr th {\n",
       "        vertical-align: top;\n",
       "    }\n",
       "\n",
       "    .dataframe thead th {\n",
       "        text-align: right;\n",
       "    }\n",
       "</style>\n",
       "<table border=\"1\" class=\"dataframe\">\n",
       "  <thead>\n",
       "    <tr style=\"text-align: right;\">\n",
       "      <th></th>\n",
       "      <th>Car</th>\n",
       "      <th>Model</th>\n",
       "      <th>Volume</th>\n",
       "      <th>Weight</th>\n",
       "      <th>CO2</th>\n",
       "    </tr>\n",
       "  </thead>\n",
       "  <tbody>\n",
       "    <tr>\n",
       "      <th>12</th>\n",
       "      <td>Ford</td>\n",
       "      <td>Fiesta</td>\n",
       "      <td>1000</td>\n",
       "      <td>1112</td>\n",
       "      <td>99</td>\n",
       "    </tr>\n",
       "    <tr>\n",
       "      <th>8</th>\n",
       "      <td>Ford</td>\n",
       "      <td>Fiesta</td>\n",
       "      <td>1500</td>\n",
       "      <td>1112</td>\n",
       "      <td>98</td>\n",
       "    </tr>\n",
       "    <tr>\n",
       "      <th>32</th>\n",
       "      <td>Ford</td>\n",
       "      <td>B-Max</td>\n",
       "      <td>1600</td>\n",
       "      <td>1235</td>\n",
       "      <td>104</td>\n",
       "    </tr>\n",
       "    <tr>\n",
       "      <th>20</th>\n",
       "      <td>Ford</td>\n",
       "      <td>Mondeo</td>\n",
       "      <td>1600</td>\n",
       "      <td>1584</td>\n",
       "      <td>94</td>\n",
       "    </tr>\n",
       "    <tr>\n",
       "      <th>19</th>\n",
       "      <td>Ford</td>\n",
       "      <td>Focus</td>\n",
       "      <td>2000</td>\n",
       "      <td>1328</td>\n",
       "      <td>105</td>\n",
       "    </tr>\n",
       "  </tbody>\n",
       "</table>\n",
       "</div>"
      ],
      "text/plain": [
       "     Car   Model  Volume  Weight  CO2\n",
       "12  Ford  Fiesta    1000    1112   99\n",
       "8   Ford  Fiesta    1500    1112   98\n",
       "32  Ford   B-Max    1600    1235  104\n",
       "20  Ford  Mondeo    1600    1584   94\n",
       "19  Ford   Focus    2000    1328  105"
      ]
     },
     "execution_count": 8,
     "metadata": {},
     "output_type": "execute_result"
    }
   ],
   "source": [
    "#SORT\n",
    "df_ford.sort_values(by=['Volume','Weight','CO2'], ascending=True)"
   ]
  },
  {
   "cell_type": "code",
   "execution_count": 9,
   "metadata": {},
   "outputs": [
    {
     "data": {
      "text/plain": [
       "<AxesSubplot:>"
      ]
     },
     "execution_count": 9,
     "metadata": {},
     "output_type": "execute_result"
    },
    {
     "data": {
      "image/png": "[encoded data removed]",
      "text/plain": [
       "<Figure size 640x480 with 1 Axes>"
      ]
     },
     "metadata": {},
     "output_type": "display_data"
    }
   ],
   "source": [
    "df_ford.boxplot(column=['Volume','Weight'])"
   ]
  },
  {
   "cell_type": "code",
   "execution_count": 10,
   "metadata": {},
   "outputs": [
    {
     "data": {
      "text/plain": [
       "Car       0\n",
       "Model     0\n",
       "Volume    0\n",
       "Weight    0\n",
       "CO2       0\n",
       "dtype: int64"
      ]
     },
     "execution_count": 10,
     "metadata": {},
     "output_type": "execute_result"
    }
   ],
   "source": [
    "#EDA \n",
    "# 1. Thay thế trường null thành trung bình của cột đó \n",
    "\n",
    "#Xem dữ liệu của trường nào bằng null\n",
    "df_ford.isna().sum()\n"
   ]
  },
  {
   "cell_type": "code",
   "execution_count": 11,
   "metadata": {},
   "outputs": [
    {
     "name": "stderr",
     "output_type": "stream",
     "text": [
      "C:\\Users\\ADMIN\\AppData\\Local\\Temp\\ipykernel_15304\\141616506.py:2: FutureWarning: Dropping of nuisance columns in DataFrame reductions (with 'numeric_only=None') is deprecated; in a future version this will raise TypeError.  Select only valid columns before calling the reduction.\n",
      "  mean_Volumne = df_ford.mean()\n",
      "C:\\Users\\ADMIN\\AppData\\Local\\Temp\\ipykernel_15304\\141616506.py:3: SettingWithCopyWarning: \n",
      "A value is trying to be set on a copy of a slice from a DataFrame.\n",
      "Try using .loc[row_indexer,col_indexer] = value instead\n",
      "\n",
      "See the caveats in the documentation: https://pandas.pydata.org/pandas-docs/stable/user_guide/indexing.html#returning-a-view-versus-a-copy\n",
      "  df_ford.replace(df_ford['Volume'].min(), mean_Volumne, inplace=True)\n",
      "C:\\Users\\ADMIN\\AppData\\Local\\Temp\\ipykernel_15304\\141616506.py:4: SettingWithCopyWarning: \n",
      "A value is trying to be set on a copy of a slice from a DataFrame.\n",
      "Try using .loc[row_indexer,col_indexer] = value instead\n",
      "\n",
      "See the caveats in the documentation: https://pandas.pydata.org/pandas-docs/stable/user_guide/indexing.html#returning-a-view-versus-a-copy\n",
      "  df_ford.replace(df_ford['Volume'].max(), mean_Volumne, inplace=True)\n"
     ]
    },
    {
     "data": {
      "text/plain": [
       "'\\nDữ liệu của Volume có 2 giá trị ngoại vi\\n'"
      ]
     },
     "execution_count": 11,
     "metadata": {},
     "output_type": "execute_result"
    }
   ],
   "source": [
    "# 2. Thay thế dữ liệu ngoại vi bằng trung bình\n",
    "mean_Volumne = df_ford.mean()\n",
    "df_ford.replace(df_ford['Volume'].min(), mean_Volumne, inplace=True)\n",
    "df_ford.replace(df_ford['Volume'].max(), mean_Volumne, inplace=True)\n",
    "# Nhận xét : \n",
    "'''\n",
    "Dữ liệu của Volume có 2 giá trị ngoại vi\n",
    "'''\n"
   ]
  },
  {
   "cell_type": "code",
   "execution_count": 13,
   "metadata": {},
   "outputs": [
    {
     "data": {
      "text/html": [
       "<div>\n",
       "<style scoped>\n",
       "    .dataframe tbody tr th:only-of-type {\n",
       "        vertical-align: middle;\n",
       "    }\n",
       "\n",
       "    .dataframe tbody tr th {\n",
       "        vertical-align: top;\n",
       "    }\n",
       "\n",
       "    .dataframe thead th {\n",
       "        text-align: right;\n",
       "    }\n",
       "</style>\n",
       "<table border=\"1\" class=\"dataframe\">\n",
       "  <thead>\n",
       "    <tr style=\"text-align: right;\">\n",
       "      <th></th>\n",
       "      <th>Volume</th>\n",
       "      <th>Weight</th>\n",
       "      <th>CO2</th>\n",
       "    </tr>\n",
       "  </thead>\n",
       "  <tbody>\n",
       "    <tr>\n",
       "      <th>Volume</th>\n",
       "      <td>1.000000</td>\n",
       "      <td>0.753537</td>\n",
       "      <td>0.592082</td>\n",
       "    </tr>\n",
       "    <tr>\n",
       "      <th>Weight</th>\n",
       "      <td>0.753537</td>\n",
       "      <td>1.000000</td>\n",
       "      <td>0.552150</td>\n",
       "    </tr>\n",
       "    <tr>\n",
       "      <th>CO2</th>\n",
       "      <td>0.592082</td>\n",
       "      <td>0.552150</td>\n",
       "      <td>1.000000</td>\n",
       "    </tr>\n",
       "  </tbody>\n",
       "</table>\n",
       "</div>"
      ],
      "text/plain": [
       "          Volume    Weight       CO2\n",
       "Volume  1.000000  0.753537  0.592082\n",
       "Weight  0.753537  1.000000  0.552150\n",
       "CO2     0.592082  0.552150  1.000000"
      ]
     },
     "execution_count": 13,
     "metadata": {},
     "output_type": "execute_result"
    }
   ],
   "source": [
    "#Khảo sát tương quan:\n",
    "df.corr()\n",
    "#Nhận xét:\n"
   ]
  },
  {
   "cell_type": "code",
   "execution_count": 29,
   "metadata": {},
   "outputs": [
    {
     "data": {
      "text/plain": [
       "'\\nHệ số tương quan của Weight và Volume là 0.75 nên chúng có sự tương quan tuyến tính mạnh\\nHệ số tương quan của CO2 và Volume là 0.59 nên chúng có sự tương quan tuyến tính \\nHệ số tương quan của Weight và CO2 là 0.55 nên chúng có sự tương quan tuyến tính \\n'"
      ]
     },
     "execution_count": 29,
     "metadata": {},
     "output_type": "execute_result"
    }
   ],
   "source": [
    "#Find the duplicates\n",
    "# tìm dữ liệu trùng\n",
    "df.duplicated().sum()\n",
    "'''\n",
    "Hệ số tương quan của Weight và Volume là 0.75 nên chúng có sự tương quan tuyến tính mạnh\n",
    "Hệ số tương quan của CO2 và Volume là 0.59 nên chúng có sự tương quan tuyến tính \n",
    "Hệ số tương quan của Weight và CO2 là 0.55 nên chúng có sự tương quan tuyến tính \n",
    "'''"
   ]
  },
  {
   "cell_type": "code",
   "execution_count": 15,
   "metadata": {},
   "outputs": [],
   "source": [
    "#Xu ly xoa het dong du lieu rong\n",
    "df.dropna(how = 'all', inplace = True)\n",
    "#Đã được võ tấn đạt đóng gói"
   ]
  },
  {
   "cell_type": "code",
   "execution_count": 16,
   "metadata": {},
   "outputs": [],
   "source": [
    "#Thay the cac cot du lieu thieu = Unkown\n",
    "#df['...'].fillna('unknow', inplace = True)"
   ]
  },
  {
   "cell_type": "code",
   "execution_count": 17,
   "metadata": {},
   "outputs": [],
   "source": [
    "'''\n",
    "    Step 3: Tạo tập dữ liệu input và output từ dataset\n",
    "'''\n",
    "# Tập dữ liệu\n",
    "# x: input(Biến độc lập)\n",
    "# y: output(Biến phụ thuộc)\n",
    "\n",
    "x = df[['Volume','Weight']].values\n",
    "y = df[['CO2']].values"
   ]
  },
  {
   "cell_type": "code",
   "execution_count": 18,
   "metadata": {},
   "outputs": [],
   "source": [
    "#chia tác ra tranning và testing theo tỉ kệ 80% và 20%\n",
    "#Chia tách ra training và testing\n",
    "#x_train là input tập train\n",
    "#x_test là input tập test\n",
    "#y_train là out của tập train\n",
    "#y_test là out của tập test\n",
    "\n",
    "'''\n",
    "    Step 4: Chia tập dữ liệu thành 2 phần : training và testing theo tỉ lệ là 80% và 20%\n",
    "    Chia tách ra training và testing\n",
    "'''\n",
    "from sklearn.model_selection import train_test_split# trai_test_split dùng để chia tập dữ liệu thành train data và test data\n",
    "x_train, x_test, y_train, y_test = train_test_split(x,y,test_size=0.2, random_state= 146)#testing là 20% và random_state theo yêu cầu đề bài"
   ]
  },
  {
   "cell_type": "code",
   "execution_count": 19,
   "metadata": {},
   "outputs": [
    {
     "data": {
      "text/html": [
       "<style>#sk-container-id-1 {color: black;background-color: white;}#sk-container-id-1 pre{padding: 0;}#sk-container-id-1 div.sk-toggleable {background-color: white;}#sk-container-id-1 label.sk-toggleable__label {cursor: pointer;display: block;width: 100%;margin-bottom: 0;padding: 0.3em;box-sizing: border-box;text-align: center;}#sk-container-id-1 label.sk-toggleable__label-arrow:before {content: \"▸\";float: left;margin-right: 0.25em;color: #696969;}#sk-container-id-1 label.sk-toggleable__label-arrow:hover:before {color: black;}#sk-container-id-1 div.sk-estimator:hover label.sk-toggleable__label-arrow:before {color: black;}#sk-container-id-1 div.sk-toggleable__content {max-height: 0;max-width: 0;overflow: hidden;text-align: left;background-color: #f0f8ff;}#sk-container-id-1 div.sk-toggleable__content pre {margin: 0.2em;color: black;border-radius: 0.25em;background-color: #f0f8ff;}#sk-container-id-1 input.sk-toggleable__control:checked~div.sk-toggleable__content {max-height: 200px;max-width: 100%;overflow: auto;}#sk-container-id-1 input.sk-toggleable__control:checked~label.sk-toggleable__label-arrow:before {content: \"▾\";}#sk-container-id-1 div.sk-estimator input.sk-toggleable__control:checked~label.sk-toggleable__label {background-color: #d4ebff;}#sk-container-id-1 div.sk-label input.sk-toggleable__control:checked~label.sk-toggleable__label {background-color: #d4ebff;}#sk-container-id-1 input.sk-hidden--visually {border: 0;clip: rect(1px 1px 1px 1px);clip: rect(1px, 1px, 1px, 1px);height: 1px;margin: -1px;overflow: hidden;padding: 0;position: absolute;width: 1px;}#sk-container-id-1 div.sk-estimator {font-family: monospace;background-color: #f0f8ff;border: 1px dotted black;border-radius: 0.25em;box-sizing: border-box;margin-bottom: 0.5em;}#sk-container-id-1 div.sk-estimator:hover {background-color: #d4ebff;}#sk-container-id-1 div.sk-parallel-item::after {content: \"\";width: 100%;border-bottom: 1px solid gray;flex-grow: 1;}#sk-container-id-1 div.sk-label:hover label.sk-toggleable__label {background-color: #d4ebff;}#sk-container-id-1 div.sk-serial::before {content: \"\";position: absolute;border-left: 1px solid gray;box-sizing: border-box;top: 0;bottom: 0;left: 50%;z-index: 0;}#sk-container-id-1 div.sk-serial {display: flex;flex-direction: column;align-items: center;background-color: white;padding-right: 0.2em;padding-left: 0.2em;position: relative;}#sk-container-id-1 div.sk-item {position: relative;z-index: 1;}#sk-container-id-1 div.sk-parallel {display: flex;align-items: stretch;justify-content: center;background-color: white;position: relative;}#sk-container-id-1 div.sk-item::before, #sk-container-id-1 div.sk-parallel-item::before {content: \"\";position: absolute;border-left: 1px solid gray;box-sizing: border-box;top: 0;bottom: 0;left: 50%;z-index: -1;}#sk-container-id-1 div.sk-parallel-item {display: flex;flex-direction: column;z-index: 1;position: relative;background-color: white;}#sk-container-id-1 div.sk-parallel-item:first-child::after {align-self: flex-end;width: 50%;}#sk-container-id-1 div.sk-parallel-item:last-child::after {align-self: flex-start;width: 50%;}#sk-container-id-1 div.sk-parallel-item:only-child::after {width: 0;}#sk-container-id-1 div.sk-dashed-wrapped {border: 1px dashed gray;margin: 0 0.4em 0.5em 0.4em;box-sizing: border-box;padding-bottom: 0.4em;background-color: white;}#sk-container-id-1 div.sk-label label {font-family: monospace;font-weight: bold;display: inline-block;line-height: 1.2em;}#sk-container-id-1 div.sk-label-container {text-align: center;}#sk-container-id-1 div.sk-container {/* jupyter's `normalize.less` sets `[hidden] { display: none; }` but bootstrap.min.css set `[hidden] { display: none !important; }` so we also need the `!important` here to be able to override the default hidden behavior on the sphinx rendered scikit-learn.org. See: https://github.com/scikit-learn/scikit-learn/issues/21755 */display: inline-block !important;position: relative;}#sk-container-id-1 div.sk-text-repr-fallback {display: none;}</style><div id=\"sk-container-id-1\" class=\"sk-top-container\"><div class=\"sk-text-repr-fallback\"><pre>LinearRegression()</pre><b>In a Jupyter environment, please rerun this cell to show the HTML representation or trust the notebook. <br />On GitHub, the HTML representation is unable to render, please try loading this page with nbviewer.org.</b></div><div class=\"sk-container\" hidden><div class=\"sk-item\"><div class=\"sk-estimator sk-toggleable\"><input class=\"sk-toggleable__control sk-hidden--visually\" id=\"sk-estimator-id-1\" type=\"checkbox\" checked><label for=\"sk-estimator-id-1\" class=\"sk-toggleable__label sk-toggleable__label-arrow\">LinearRegression</label><div class=\"sk-toggleable__content\"><pre>LinearRegression()</pre></div></div></div></div></div>"
      ],
      "text/plain": [
       "LinearRegression()"
      ]
     },
     "execution_count": 19,
     "metadata": {},
     "output_type": "execute_result"
    }
   ],
   "source": [
    "'''\n",
    "    Step 5: Xây dựng mô hình hồi quy trong Marchine learning\n",
    "    Xây dụng mô hình hồi quy tuyến tính đa biến\n",
    "    VD: CO2  = A0 + A1*Volume + A2*Weight + Epsilon\n",
    "'''\n",
    "from sklearn import linear_model\n",
    "model = linear_model.LinearRegression() \n",
    "model.fit(x_train, y_train)\n"
   ]
  },
  {
   "cell_type": "code",
   "execution_count": 20,
   "metadata": {},
   "outputs": [
    {
     "name": "stdout",
     "output_type": "stream",
     "text": [
      "[76.18984304]\n",
      "[[0.01152742 0.00606494]]\n",
      "CO2 = 76.18984304 + 0.01152742*Volume + 0.00606494*Weight\n"
     ]
    }
   ],
   "source": [
    "# Step 6: Đánh giá mô hình( xác định các giá trị và đánh giá mô hình)\n",
    "# Sinh viên xác định các giá trị này tương ứng với gì\n",
    "# To retrieving the intercept\n",
    "print(model.intercept_)# intercept ứng với A0\n",
    "       \n",
    "# To retrieving the slope(coefficient)\n",
    "print(model.coef_)# coef tương ứng với A1 và A2\n",
    "\n",
    "# Sinh viên ghi ra mô hình hồi quy mà máy tính tính được\n",
    "\n",
    "# Mô hình hồi quy\n",
    "# Ghi ra giấy \n",
    "print('CO2 = 76.18984304 + 0.01152742*Volume + 0.00606494*Weight')\n",
    "# chia tập dữ liệu 2 phàn là training và testing theo tỉ lệ 80% 20%\n",
    "# vì giảm thiểu khả năng sai lệch và thiên vị trong quá trình đánh giá mô hình"
   ]
  },
  {
   "cell_type": "code",
   "execution_count": 21,
   "metadata": {},
   "outputs": [
    {
     "name": "stdout",
     "output_type": "stream",
     "text": [
      "MAE (Mean Absolute Error):  6.365448310164403\n",
      "MSE (Mean Squared Error):  53.63420871653851\n",
      "RMSE (Root Mean Squared Error):  7.323537991745418\n",
      "Score:  -1.3591679435453363\n"
     ]
    }
   ],
   "source": [
    "'''\n",
    "    Tính toán các MAE, MSE, RMSE trên tập dữ liệu test để đánh giá mô hình\n",
    "    Sau đó đưa ra kết luận\n",
    "\n",
    "    Nhận xét:\n",
    "    -- MAE(độ lệch): càng nhỏ thì càng chính xác(Lỗi càng ít và ngc lại)\n",
    "    nếu train, test lệch quá nhiều -> overfit( phải cân  bằng lại giá trị này 1 cái giảm 1 cái tăng)\n",
    "    EX: học tốt nhưng không làm được \n",
    "    --> cứ mỗi giá trị dự báo thì lệch khoảng bao nhiêu so với thực tế\n",
    "\n",
    "    -- MSE(kết quả thực tế): ccho biết sai số bình phương trung bình giữa các giá trị được \n",
    "    dự đoán và thực tế , đánh giá chất lượng của 1 dự đoán hay 1 ước lượng nào đó\n",
    "        -MSE càng nhỏ(càng về 0) sai số càng ít ==> dự đoán có chất lượng, chính xác(để MSE càng ngày càng nhỏ ta chỉ cần lặp lại MSE nhiều lần)\n",
    "    --> cho biết mỗi kết quả dự báo lệch bao nhiêu so với bình phương kết quả thực tế\n",
    "\n",
    "    -- RMSE : độ lệch của sai số dự đoán\n",
    "    --> RMSE trên tập càng nhỏ -> sai số càng bé -> mức độ ước lượng cho thấy độ\n",
    "    tin cậy có thể đạt cao nhất ở tập train \n",
    "\n",
    "\n",
    "'''\n",
    "\n",
    "import numpy as np \n",
    "from sklearn import metrics\n",
    "\n",
    "# Đánh giá trên test\n",
    "y_test_pred = model.predict(x_test)\n",
    "print('MAE (Mean Absolute Error): ', metrics.mean_absolute_error(y_test, y_test_pred))\n",
    "print('MSE (Mean Squared Error): ', metrics.mean_squared_error(y_test, y_test_pred))\n",
    "print('RMSE (Root Mean Squared Error): ', np.sqrt(metrics.mean_squared_error(y_test, y_test_pred)))\n",
    "print('Score: ', model.score(x_test, y_test))\n",
    "\n",
    "# RMSE (Root Mean Squared Error):  5.495744189230243\n",
    "# so sánh RMSE trên tập train và test nếu lệch quá nhiều thì overfit"
   ]
  },
  {
   "cell_type": "code",
   "execution_count": 22,
   "metadata": {},
   "outputs": [
    {
     "name": "stdout",
     "output_type": "stream",
     "text": [
      "MAE (Mean Absolute Error):  4.957485704746416\n",
      "MSE (Mean Squared Error):  30.203204193457985\n",
      "RMSE (Root Mean Squared Error):  5.495744189230243\n",
      "Score:  0.499803293458575\n"
     ]
    },
    {
     "data": {
      "text/plain": [
       "'\\n    MAE:MAE(độ lệch)MAE (Mean Absolute Error) là 1 metric đánh giá mô hình bằng cách tính trung bình giá trị tuyệt đối sai số giữa giá trị thực tế \\n    và giá trị dự đoán\\n        +MAE trên tập nào càng nhỏ thì càng chính xác(Lỗi càng ít và ngc lại)\\n        +Nếu train, test lệch quá nhiều ->overfit( phải cân  bằng lại giá trị này 1 cái giảm 1 cái tăng)\\n        \\n\\n'"
      ]
     },
     "execution_count": 22,
     "metadata": {},
     "output_type": "execute_result"
    }
   ],
   "source": [
    "# Đánh giá trên tập train ( sinh viên tự làm)\n",
    "import numpy as np \n",
    "from sklearn import metrics\n",
    "\n",
    "# Đánh giá trên train\n",
    "y_train_pred = model.predict(x_train)\n",
    "print('MAE (Mean Absolute Error): ', metrics.mean_absolute_error(y_train, y_train_pred))\n",
    "print('MSE (Mean Squared Error): ', metrics.mean_squared_error(y_train, y_train_pred))\n",
    "print('RMSE (Root Mean Squared Error): ', np.sqrt(metrics.mean_squared_error(y_train, y_train_pred)))\n",
    "print('Score: ', model.score(x_train, y_train))\n",
    "\n",
    "# CÂU HỎI ĐẶT RA: SO SÁNH MAE TRÊN TRAIN VÀ TEST\n",
    "'''\n",
    "    MAE:MAE(độ lệch)MAE (Mean Absolute Error) là 1 metric đánh giá mô hình bằng cách tính trung bình giá trị tuyệt đối sai số giữa giá trị thực tế \n",
    "    và giá trị dự đoán\n",
    "        +MAE trên tập nào càng nhỏ thì càng chính xác(Lỗi càng ít và ngc lại)\n",
    "        +Nếu train, test lệch quá nhiều ->overfit( phải cân  bằng lại giá trị này 1 cái giảm 1 cái tăng)\n",
    "        \n",
    "\n",
    "'''\n"
   ]
  },
  {
   "cell_type": "code",
   "execution_count": 23,
   "metadata": {},
   "outputs": [],
   "source": [
    "'''\n",
    "    Lưu trữ mô hình hồi quy xuống thiết bị lưu trữ với tên 'model_cars_linear_regression.sav'\n",
    "    \n",
    "'''\n",
    "import pickle\n",
    "\n",
    "pickle.dump(model,open('model_cars_linear_regression.sav','wb'))"
   ]
  },
  {
   "cell_type": "code",
   "execution_count": 24,
   "metadata": {},
   "outputs": [
    {
     "name": "stdout",
     "output_type": "stream",
     "text": [
      "[[122.11474898]]\n"
     ]
    }
   ],
   "source": [
    "'''\n",
    "    Hãy dự báo giá trị CO2 biết rằng: Volume = 3300 và Height = 1300\n",
    "'''\n",
    "import pickle\n",
    "# Load model từ storage(load dữ liệu)\n",
    "loaded_model = pickle.load(open('model_cars_linear_regression.sav', 'rb'))\n",
    "#Dự đoán co2 v= 3300 , w= 1300\n",
    "co2_predicted = loaded_model.predict([[3300, 1300]])\n",
    "print(co2_predicted)"
   ]
  },
  {
   "cell_type": "code",
   "execution_count": 25,
   "metadata": {},
   "outputs": [
    {
     "name": "stdout",
     "output_type": "stream",
     "text": [
      "[[76.84505823]]\n"
     ]
    }
   ],
   "source": [
    "'''\n",
    "    Viết chương trình nhập Weight và Volume từ bàn phím, sau đó in ra kết quả dự đoán CO2\n",
    "'''\n",
    "xVol = float(input('Enter your Volume: '))\n",
    "xWeight = float(input('Enter your Weight: '))\n",
    "pCO2 = loaded_model.predict([[xVol, xWeight]])\n",
    "print(pCO2)"
   ]
  },
  {
   "cell_type": "code",
   "execution_count": 26,
   "metadata": {},
   "outputs": [
    {
     "name": "stdout",
     "output_type": "stream",
     "text": [
      "                            OLS Regression Results                            \n",
      "==============================================================================\n",
      "Dep. Variable:                      y   R-squared:                       0.500\n",
      "Model:                            OLS   Adj. R-squared:                  0.460\n",
      "Method:                 Least Squares   F-statistic:                     12.49\n",
      "Date:                Fri, 09 Dec 2022   Prob (F-statistic):           0.000173\n",
      "Time:                        08:58:38   Log-Likelihood:                -87.442\n",
      "No. Observations:                  28   AIC:                             180.9\n",
      "Df Residuals:                      25   BIC:                             184.9\n",
      "Df Model:                           2                                         \n",
      "Covariance Type:            nonrobust                                         \n",
      "==============================================================================\n",
      "                 coef    std err          t      P>|t|      [0.025      0.975]\n",
      "------------------------------------------------------------------------------\n",
      "const         76.1898      6.034     12.628      0.000      63.763      88.616\n",
      "x1             0.0115      0.004      2.766      0.011       0.003       0.020\n",
      "x2             0.0061      0.006      0.947      0.353      -0.007       0.019\n",
      "==============================================================================\n",
      "Omnibus:                        6.100   Durbin-Watson:                   2.770\n",
      "Prob(Omnibus):                  0.047   Jarque-Bera (JB):                2.511\n",
      "Skew:                          -0.414   Prob(JB):                        0.285\n",
      "Kurtosis:                       1.788   Cond. No.                     1.17e+04\n",
      "==============================================================================\n",
      "\n",
      "Notes:\n",
      "[1] Standard Errors assume that the covariance matrix of the errors is correctly specified.\n",
      "[2] The condition number is large, 1.17e+04. This might indicate that there are\n",
      "strong multicollinearity or other numerical problems.\n"
     ]
    },
    {
     "data": {
      "text/plain": [
       "'\\nAdj. R-squared: V và W giải thích cho 46% sự biến thiên của nồng độ C02\\nProb (F-statistic): đánh giá phụ hợp của mô hình ( vì < 0.05)\\nProb (F-statistic): 0.000173 -> mô hình phù hợp -> cách tính mẫu này có thể áp dụng cho tổng thể\\n\\nx1 và x2 lần lượt là V và W\\nCột coef là hệ số của A1 và A2\\nCột P>|t| : đánh giá ý nghĩa thống kê của biến độc lập khi tham gia mô hình lên biến phụ thuộc\\nx1(V) : 0.011 < 0.05 -> có ý nghĩa tới thống kê-> có tác động đến biến phụ thuộc CO2\\nx2(W) : 0.353 > 0.05 -> ko có ý nghĩa thống kê-> ko tác động đến biến phụ thuộc CO2\\n'"
      ]
     },
     "execution_count": 26,
     "metadata": {},
     "output_type": "execute_result"
    }
   ],
   "source": [
    "'''\n",
    "    Phân tích thống kê suy diễn mô hình hồi quy tuyến tính\n",
    "'''\n",
    "import statsmodels.api as sm\n",
    "\n",
    "# Adding a constant to get an intercept\n",
    "x_train_with_constant = sm.add_constant(x_train)\n",
    "\n",
    "# Fitting the resgression line using 'OLS'\n",
    "result = sm.OLS(y_train, x_train_with_constant).fit()\n",
    "\n",
    "print(result.summary())\n",
    "\n",
    "'''\n",
    "Adj. R-squared: V và W giải thích cho 46% sự biến thiên của nồng độ C02\n",
    "Prob (F-statistic): đánh giá phụ hợp của mô hình ( vì < 0.05)\n",
    "Prob (F-statistic): 0.000173 -> mô hình phù hợp -> cách tính mẫu này có thể áp dụng cho tổng thể\n",
    "\n",
    "x1 và x2 lần lượt là V và W\n",
    "Cột coef là hệ số của A1 và A2\n",
    "Cột P>|t| : đánh giá ý nghĩa thống kê của biến độc lập khi tham gia mô hình lên biến phụ thuộc\n",
    "x1(V) : 0.011 < 0.05 -> có ý nghĩa tới thống kê-> có tác động đến biến phụ thuộc CO2\n",
    "x2(W) : 0.353 > 0.05 -> ko có ý nghĩa thống kê-> ko tác động đến biến phụ thuộc CO2\n",
    "\n",
    "Giải thích Thống kê Durban Watson\n",
    "Thống kê Durban Watson sẽ luôn nhận giá trị từ 0 đến 4. Giá trị DW = 2 cho biết không có tự tương quan. \n",
    "Khi giá trị dưới 2, nó biểu thị tự tương quan dương và giá trị cao hơn 2 biểu thị tương quan chuỗi âm.\n",
    "'''"
   ]
  },
  {
   "cell_type": "markdown",
   "metadata": {},
   "source": [
    "**ARS (Adj R.Square):**\n",
    "-    so sánh với 0.5 nếu lớn hơn 0.5 thì kết luận biến độc lập phản ánh sự tác động ? % tới biến phụ thuộc. \n",
    "-      Nếu bé hơn 0.5 => mức giải thích này quá ít nói ngược lại\n",
    "**Đánh giá mô hình SIG(Prob (F-statistic)) với 0.05**\n",
    "-       Nhỏ hơn thì có ý nghĩa thống kê mô hình này phù hợp\n",
    "-       Lớn hơn ngược lại\n",
    "**Đánh giá ý nghĩa thống kê của biến độc lập khi tham gia mô hình P > |t|**\n",
    "-       So sánh với 0.05 nếu nhỏ hơn => biến độc lập có ý nghĩa thống kê với mô hình này \n",
    "**Đánh giá mức độ tác động của các biến độc lập như trên**\n",
    "-       Đánh giá ở cái bảng dưới \n",
    "****"
   ]
  },
  {
   "cell_type": "code",
   "execution_count": 27,
   "metadata": {},
   "outputs": [
    {
     "name": "stdout",
     "output_type": "stream",
     "text": [
      "                                 OLS Regression Results                                \n",
      "=======================================================================================\n",
      "Dep. Variable:                      y   R-squared (uncentered):                   0.979\n",
      "Model:                            OLS   Adj. R-squared (uncentered):              0.977\n",
      "Method:                 Least Squares   F-statistic:                              606.8\n",
      "Date:                Fri, 09 Dec 2022   Prob (F-statistic):                    1.52e-22\n",
      "Time:                        08:58:38   Log-Likelihood:                         -115.42\n",
      "No. Observations:                  28   AIC:                                      234.8\n",
      "Df Residuals:                      26   BIC:                                      237.5\n",
      "Df Model:                           2                                                  \n",
      "Covariance Type:            nonrobust                                                  \n",
      "==============================================================================\n",
      "                 coef    std err          t      P>|t|      [0.025      0.975]\n",
      "------------------------------------------------------------------------------\n",
      "x1             0.0182      0.011      1.649      0.111      -0.004       0.041\n",
      "x2             0.0541      0.014      3.942      0.001       0.026       0.082\n",
      "==============================================================================\n",
      "Omnibus:                        2.247   Durbin-Watson:                   1.996\n",
      "Prob(Omnibus):                  0.325   Jarque-Bera (JB):                1.974\n",
      "Skew:                           0.609   Prob(JB):                        0.373\n",
      "Kurtosis:                       2.545   Cond. No.                         12.7\n",
      "==============================================================================\n",
      "\n",
      "Notes:\n",
      "[1] R² is computed without centering (uncentered) since the model does not contain a constant.\n",
      "[2] Standard Errors assume that the covariance matrix of the errors is correctly specified.\n"
     ]
    },
    {
     "data": {
      "text/plain": [
       "'\\nBảng này nhằm đánh giá tác động của biến độc lập lên biến phụ thuộc\\nNote: đọc kết quả ở 2 dòng x1 và x2\\nTrị tuyệt đối ABS(coef) càng lớn thì ảnh hưởng đến mô hình nhiều hơn đến việc tạo ra nồng độ C02\\nx1: Volume ; x2: Weight\\n0.054 > 0.018\\nKết luận: W ảnh hưởng đến C02 nhiều hơn so với V\\n'"
      ]
     },
     "execution_count": 27,
     "metadata": {},
     "output_type": "execute_result"
    }
   ],
   "source": [
    "'''\n",
    "    Phân tích thống kê suy diễn mô hình hồi quy tuyến tính đánh giá mức độ ảnh hưởng các biến độc lập trong mô hình\n",
    "    \n",
    "'''\n",
    "import statsmodels.api as sm\n",
    "\n",
    "#performing the regression\n",
    "result = sm.OLS(y_train, x_train).fit()\n",
    "\n",
    "# Result of statsmodel\n",
    "print(result.summary())\n",
    "\n",
    "\n",
    "'''\n",
    "Bảng này nhằm đánh giá tác động của biến độc lập lên biến phụ thuộc\n",
    "Note: đọc kết quả ở 2 dòng x1 và x2\n",
    "Trị tuyệt đối ABS(coef) càng lớn thì ảnh hưởng đến mô hình nhiều hơn đến việc tạo ra nồng độ C02\n",
    "x1: Volume ; x2: Weight\n",
    "0.054 > 0.018\n",
    "Kết luận: W ảnh hưởng đến C02 nhiều hơn so với V\n",
    "'''"
   ]
  },
  {
   "cell_type": "code",
   "execution_count": 28,
   "metadata": {},
   "outputs": [
    {
     "data": {
      "text/plain": [
       "<AxesSubplot:>"
      ]
     },
     "execution_count": 28,
     "metadata": {},
     "output_type": "execute_result"
    }
   ],
   "source": [
    "'''\n",
    "Trị tuyệt đối của coef() x1, x2\n",
    "Cái nào lớn hơn thì ảnh hướng đến mô hình mạnh hơn --> kết luận\n",
    "'''\n",
    "df.boxplot(column=['Volume','Weight'])\n"
   ]
  }
 ],
 "metadata": {
  "kernelspec": {
   "display_name": "Python 3",
   "language": "python",
   "name": "python3"
  },
  "language_info": {
   "codemirror_mode": {
    "name": "ipython",
    "version": 3
   },
   "file_extension": ".py",
   "mimetype": "text/x-python",
   "name": "python",
   "nbconvert_exporter": "python",
   "pygments_lexer": "ipython3",
   "version": "3.10.6"
  },
  "orig_nbformat": 4,
  "vscode": {
   "interpreter": {
    "hash": "31671a60cee805c34c73116577b485118ff3a75c458d3004d49632c19702ac60"
   }
  }
 },
 "nbformat": 4,
 "nbformat_minor": 2
}
